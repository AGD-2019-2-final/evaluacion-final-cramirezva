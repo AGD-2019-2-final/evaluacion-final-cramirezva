{
 "cells": [
  {
   "cell_type": "code",
   "execution_count": 21,
   "metadata": {},
   "outputs": [
    {
     "name": "stdout",
     "output_type": "stream",
     "text": [
      "The bigdata extension is already loaded. To reload it, use:\n",
      "  %reload_ext bigdata\n"
     ]
    }
   ],
   "source": [
    "%load_ext bigdata"
   ]
  },
  {
   "cell_type": "code",
   "execution_count": 22,
   "metadata": {},
   "outputs": [],
   "source": [
    "%pig_start"
   ]
  },
  {
   "cell_type": "code",
   "execution_count": 23,
   "metadata": {},
   "outputs": [],
   "source": [
    "%timeout 300"
   ]
  },
  {
   "cell_type": "code",
   "execution_count": 24,
   "metadata": {},
   "outputs": [
    {
     "name": "stdout",
     "output_type": "stream",
     "text": [
      "rm: `input/*': No such file or directory\n",
      "rm: `output/*': No such file or directory\n",
      "rm: `output2/*': No such file or directory\n",
      "rmdir: `output': No such file or directory\n",
      "rmdir: `input': No such file or directory\n",
      "rmdir: `output2': No such file or directory\n"
     ]
    }
   ],
   "source": [
    "## Se elimina el directorio de salida en el hdfs si existe\n",
    "!hadoop fs -rm input/*\n",
    "!hadoop fs -rm output/*\n",
    "!hadoop fs -rm output2/*\n",
    "!hadoop fs -rmdir input output\n",
    "!hadoop fs -rmdir input output2"
   ]
  },
  {
   "cell_type": "code",
   "execution_count": 25,
   "metadata": {},
   "outputs": [
    {
     "name": "stdout",
     "output_type": "stream",
     "text": [
      "put: `data.tsv': File exists\n",
      "Found 3 items\n",
      "-rw-r--r--   1 root supergroup        615 2020-01-18 23:22 data.csv\n",
      "-rw-r--r--   1 root supergroup       1741 2020-01-18 22:51 data.tsv\n",
      "-rw-r--r--   1 root supergroup    2271958 2020-01-18 22:32 truck_event_text_partition.csv\n"
     ]
    }
   ],
   "source": [
    "!hadoop fs -put *.tsv .\n",
    "!hadoop fs -ls"
   ]
  },
  {
   "cell_type": "code",
   "execution_count": 26,
   "metadata": {},
   "outputs": [],
   "source": [
    "!rm -rf input\n",
    "!rm -rf output\n",
    "!mkdir input\n",
    "!mkdir output"
   ]
  },
  {
   "cell_type": "code",
   "execution_count": 27,
   "metadata": {},
   "outputs": [
    {
     "name": "stdout",
     "output_type": "stream",
     "text": [
      "Overwriting script.pig\n"
     ]
    }
   ],
   "source": [
    "%%writefile script.pig\n",
    "\n",
    "-- crea la carpeta input in el HDFS\n",
    "-- fs -mkdir input\n",
    "\n",
    "-- copia los archivos del sistema local al HDFS\n",
    "fs -put input/ .\n",
    "\n",
    "-- carga de datos\n",
    "--Punto 7\n",
    "u = LOAD 'data.tsv'\n",
    "    AS (f1:CHARARRAY, f2:BAG{}, f3:MAP[]);\n",
    "    \n",
    "r = FOREACH u GENERATE $0, COUNT_STAR($1), SIZE($2);\n",
    "\n",
    "y = ORDER r BY $0,$1,$2;\n",
    "DUMP y;\n",
    "\n",
    "-- escribe el archivo de salida\n",
    "STORE y INTO 'output';\n",
    "\n",
    "-- copia los archivos del HDFS al sistema local\n",
    "fs -get output/ ."
   ]
  },
  {
   "cell_type": "code",
   "execution_count": 28,
   "metadata": {},
   "outputs": [
    {
     "name": "stdout",
     "output_type": "stream",
     "text": [
      "2020-01-19 02:36:53,509 [main] INFO  org.apache.hadoop.conf.Configuration.deprecation - mapred.job.tracker is deprecated. Instead, use mapreduce.jobtracker.address\n",
      "2020-01-19 02:36:54,860 [main] ERROR org.apache.pig.PigServer - exception during parsing: Error during parsing. <line 13, column 69>  mismatched input ';' expecting RIGHT_PAREN\n",
      "Failed to parse: <line 13, column 69>  mismatched input ';' expecting RIGHT_PAREN\n",
      "\tat org.apache.pig.parser.QueryParserDriver.parse(QueryParserDriver.java:244)\n",
      "\tat org.apache.pig.parser.QueryParserDriver.parse(QueryParserDriver.java:182)\n",
      "\tat org.apache.pig.PigServer$Graph.parseQuery(PigServer.java:1820)\n",
      "\tat org.apache.pig.PigServer$Graph.access$000(PigServer.java:1528)\n",
      "\tat org.apache.pig.PigServer.parseAndBuild(PigServer.java:461)\n",
      "\tat org.apache.pig.PigServer.executeBatch(PigServer.java:486)\n",
      "\tat org.apache.pig.PigServer.executeBatch(PigServer.java:472)\n",
      "\tat org.apache.pig.tools.grunt.GruntParser.executeBatch(GruntParser.java:171)\n",
      "\tat org.apache.pig.tools.grunt.GruntParser.processDump(GruntParser.java:777)\n",
      "\tat org.apache.pig.tools.pigscript.parser.PigScriptParser.parse(PigScriptParser.java:383)\n",
      "\tat org.apache.pig.tools.grunt.GruntParser.loadScript(GruntParser.java:561)\n",
      "\tat org.apache.pig.tools.grunt.GruntParser.processScript(GruntParser.java:503)\n",
      "\tat org.apache.pig.tools.pigscript.parser.PigScriptParser.Script(PigScriptParser.java:1037)\n",
      "\tat org.apache.pig.tools.pigscript.parser.PigScriptParser.parse(PigScriptParser.java:561)\n",
      "\tat org.apache.pig.tools.grunt.GruntParser.parseStopOnError(GruntParser.java:230)\n",
      "\tat org.apache.pig.tools.grunt.GruntParser.parseStopOnError(GruntParser.java:205)\n",
      "\tat org.apache.pig.tools.grunt.Grunt.exec(Grunt.java:81)\n",
      "\tat org.apache.pig.Main.run(Main.java:531)\n",
      "\tat org.apache.pig.Main.main(Main.java:175)\n",
      "\tat sun.reflect.NativeMethodAccessorImpl.invoke0(Native Method)\n",
      "\tat sun.reflect.NativeMethodAccessorImpl.invoke(NativeMethodAccessorImpl.java:62)\n",
      "\tat sun.reflect.DelegatingMethodAccessorImpl.invoke(DelegatingMethodAccessorImpl.java:43)\n",
      "\tat java.lang.reflect.Method.invoke(Method.java:498)\n",
      "\tat org.apache.hadoop.util.RunJar.run(RunJar.java:239)\n",
      "\tat org.apache.hadoop.util.RunJar.main(RunJar.java:153)\n",
      "2020-01-19 02:36:54,866 [main] ERROR org.apache.pig.tools.grunt.Grunt - ERROR 1200: <line 13, column 69>  mismatched input ';' expecting RIGHT_PAREN\n",
      "Details at logfile: /datalake/evaluacion-final-amzapatari-master/02-pig-50/q07-10/pig_1579401412552.log\n"
     ]
    }
   ],
   "source": [
    "!pig -execute 'run script.pig'"
   ]
  },
  {
   "cell_type": "code",
   "execution_count": 9,
   "metadata": {},
   "outputs": [
    {
     "name": "stdout",
     "output_type": "stream",
     "text": [
      "-rw-r--r--   1 root supergroup          0 2020-01-18 23:10 output/_SUCCESS\n",
      "-rw-r--r--   1 root supergroup        240 2020-01-18 23:10 output/part-r-00000\n"
     ]
    }
   ],
   "source": [
    "!hadoop fs -ls output/*"
   ]
  },
  {
   "cell_type": "code",
   "execution_count": 10,
   "metadata": {},
   "outputs": [
    {
     "name": "stdout",
     "output_type": "stream",
     "text": [
      "A\t2\t4\n",
      "A\t2\t5\n",
      "A\t2\t5\n",
      "A\t2\t5\n",
      "A\t3\t3\n",
      "A\t3\t4\n",
      "A\t3\t5\n",
      "A\t3\t6\n",
      "B\t2\t3\n",
      "B\t2\t5\n",
      "B\t2\t5\n",
      "B\t3\t5\n",
      "B\t3\t6\n",
      "B\t4\t4\n",
      "B\t4\t6\n",
      "C\t4\t3\n",
      "C\t4\t3\n",
      "C\t4\t4\n",
      "C\t4\t5\n",
      "C\t4\t6\n",
      "D\t2\t3\n",
      "D\t2\t3\n",
      "D\t2\t4\n",
      "D\t2\t6\n",
      "D\t3\t3\n",
      "D\t4\t5\n",
      "E\t2\t3\n",
      "E\t2\t3\n",
      "E\t2\t3\n",
      "E\t2\t3\n",
      "E\t2\t4\n",
      "E\t2\t6\n",
      "E\t3\t3\n",
      "E\t3\t3\n",
      "E\t3\t5\n",
      "E\t3\t5\n",
      "E\t3\t6\n",
      "E\t3\t6\n",
      "E\t4\t3\n",
      "E\t4\t6\n"
     ]
    }
   ],
   "source": [
    "!hadoop fs -cat output/part-r-00000"
   ]
  },
  {
   "cell_type": "code",
   "execution_count": 11,
   "metadata": {},
   "outputs": [
    {
     "name": "stdout",
     "output_type": "stream",
     "text": [
      "rm: `input/*': No such file or directory\n",
      "Deleted output/_SUCCESS\n",
      "Deleted output/part-r-00000\n",
      "rm: `output2/*': No such file or directory\n",
      "rmdir: `input': No such file or directory\n",
      "rmdir: `output2': No such file or directory\n"
     ]
    }
   ],
   "source": [
    "## Se elimina el directorio de salida en el hdfs si existe\n",
    "!hadoop fs -rm input/*\n",
    "!hadoop fs -rm output/*\n",
    "!hadoop fs -rm output2/*\n",
    "!hadoop fs -rmdir input output\n",
    "!hadoop fs -rmdir input output2"
   ]
  },
  {
   "cell_type": "code",
   "execution_count": 12,
   "metadata": {},
   "outputs": [],
   "source": [
    "!rm -rf input\n",
    "!rm -rf output"
   ]
  },
  {
   "cell_type": "code",
   "execution_count": null,
   "metadata": {},
   "outputs": [],
   "source": []
  }
 ],
 "metadata": {
  "kernelspec": {
   "display_name": "Python 3",
   "language": "python",
   "name": "python3"
  },
  "language_info": {
   "codemirror_mode": {
    "name": "ipython",
    "version": 3
   },
   "file_extension": ".py",
   "mimetype": "text/x-python",
   "name": "python",
   "nbconvert_exporter": "python",
   "pygments_lexer": "ipython3",
   "version": "3.6.8"
  }
 },
 "nbformat": 4,
 "nbformat_minor": 4
}
