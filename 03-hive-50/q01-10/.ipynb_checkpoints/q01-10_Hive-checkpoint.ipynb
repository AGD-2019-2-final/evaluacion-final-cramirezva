{
 "cells": [
  {
   "cell_type": "code",
   "execution_count": 75,
   "metadata": {},
   "outputs": [
    {
     "name": "stdout",
     "output_type": "stream",
     "text": [
      "The bigdata extension is already loaded. To reload it, use:\n",
      "  %reload_ext bigdata\n"
     ]
    }
   ],
   "source": [
    "%load_ext bigdata"
   ]
  },
  {
   "cell_type": "code",
   "execution_count": 76,
   "metadata": {},
   "outputs": [],
   "source": [
    "%hive_start"
   ]
  },
  {
   "cell_type": "code",
   "execution_count": 77,
   "metadata": {},
   "outputs": [],
   "source": [
    "%timeout 300"
   ]
  },
  {
   "cell_type": "code",
   "execution_count": 78,
   "metadata": {},
   "outputs": [
    {
     "name": "stdout",
     "output_type": "stream",
     "text": [
      "Deleted /tmp/output\n",
      "-rw-r--r--   1 root supergroup        637 2020-01-19 22:45 /tmp/output/data.tsv\n"
     ]
    }
   ],
   "source": [
    "## Borra la carpeta si existe\n",
    "!hdfs dfs -rm -r -f /tmp/output\n",
    "\n",
    "##\n",
    "## Crea la carpeta drivers en el HDFS\n",
    "##\n",
    "!hdfs dfs -mkdir /tmp/output\n",
    "\n",
    "##\n",
    "## Copia los archivos al HDFS\n",
    "##\n",
    "!hdfs dfs -copyFromLocal data.tsv  /tmp/output/data.tsv\n",
    "\n",
    "##\n",
    "## Lista los archivos al HDFS para verificar\n",
    "## que los archivos fueron copiados correctamente.\n",
    "##\n",
    "!hdfs dfs -ls /tmp/output/*"
   ]
  },
  {
   "cell_type": "code",
   "execution_count": 79,
   "metadata": {},
   "outputs": [
    {
     "name": "stdout",
     "output_type": "stream",
     "text": [
      "DROP TABLE IF EXISTS docs;\n",
      "OK\n",
      "Time taken: 20.727 seconds\n",
      "CREATE TABLE docs (letra       STRING,\n",
      "                           fecha        STRING,\n",
      "                           numero      INT)\n",
      "ROW FORMAT DELIMITED\n",
      "FIELDS TERMINATED BY '\\t';\n",
      "OK\n",
      "Time taken: 1.209 seconds\n"
     ]
    }
   ],
   "source": [
    "%%hive\n",
    "DROP TABLE IF EXISTS docs;\n",
    "\n",
    "CREATE TABLE docs (letra       STRING,\n",
    "                           fecha        STRING,\n",
    "                           numero      INT)\n",
    "\n",
    "ROW FORMAT DELIMITED\n",
    "FIELDS TERMINATED BY '\\t';\n"
   ]
  },
  {
   "cell_type": "code",
   "execution_count": 80,
   "metadata": {},
   "outputs": [
    {
     "name": "stdout",
     "output_type": "stream",
     "text": [
      "SHOW TABLES;\n",
      "OK\n",
      "data\n",
      "docs\n",
      "prueba\n",
      "Time taken: 0.228 seconds, Fetched: 3 row(s)\n",
      "SHOW CREATE TABLE data;\n",
      "OK\n",
      "CREATE TABLE `data`(\n",
      "  `letra` string, \n",
      "  `fecha` string, \n",
      "  `numero` int)\n",
      "ROW FORMAT SERDE \n",
      "  'org.apache.hadoop.hive.serde2.lazy.LazySimpleSerDe' \n",
      "WITH SERDEPROPERTIES ( \n",
      "  'field.delim'='\\t', \n",
      "  'serialization.format'='\\t') \n",
      "STORED AS INPUTFORMAT \n",
      "  'org.apache.hadoop.mapred.TextInputFormat' \n",
      "OUTPUTFORMAT \n",
      "  'org.apache.hadoop.hive.ql.io.HiveIgnoreKeyTextOutputFormat'\n",
      "LOCATION\n",
      "  'hdfs://0.0.0.0:9000/user/hive/warehouse/data'\n",
      "TBLPROPERTIES (\n",
      "  'transient_lastDdlTime'='1579472177')\n",
      "Time taken: 0.155 seconds, Fetched: 17 row(s)\n"
     ]
    }
   ],
   "source": [
    "%%hive\n",
    "SHOW TABLES;\n",
    "SHOW CREATE TABLE data;"
   ]
  },
  {
   "cell_type": "code",
   "execution_count": 81,
   "metadata": {},
   "outputs": [
    {
     "name": "stdout",
     "output_type": "stream",
     "text": [
      "DESCRIBE data;\n",
      "OK\n",
      "letra               \tstring              \t                    \n",
      "fecha               \tstring              \t                    \n",
      "numero              \tint                 \t                    \n",
      "Time taken: 0.093 seconds, Fetched: 3 row(s)\n"
     ]
    }
   ],
   "source": [
    "%%hive\n",
    "DESCRIBE data;"
   ]
  },
  {
   "cell_type": "code",
   "execution_count": 82,
   "metadata": {},
   "outputs": [
    {
     "name": "stdout",
     "output_type": "stream",
     "text": [
      "SELECT * FROM data LIMIT 5;\n",
      "OK\n",
      "B\t1999-08-28\t14\n",
      "E\t1999-12-06\t12\n",
      "E\t1993-07-21\t17\n",
      "C\t1991-02-12\t13\n",
      "E\t1995-04-25\t16\n",
      "Time taken: 2.715 seconds, Fetched: 5 row(s)\n"
     ]
    }
   ],
   "source": [
    "%%hive\n",
    "SELECT * FROM data LIMIT 5;"
   ]
  },
  {
   "cell_type": "code",
   "execution_count": 85,
   "metadata": {},
   "outputs": [
    {
     "name": "stdout",
     "output_type": "stream",
     "text": [
      "select concat(letra,',', count(*)) as junto from data\n",
      "group by letra\n",
      "order by junto;\n",
      "WARNING: Hive-on-MR is deprecated in Hive 2 and may not be available in the future versions. Consider using a different execution engine (i.e. spark, tez) or using Hive 1.X releases.\n",
      "Query ID = root_20200119224734_c7fdab67-411c-4a9d-84be-d9f5b5f99bec\n",
      "Total jobs = 2\n",
      "Launching Job 1 out of 2\n",
      "Number of reduce tasks not specified. Estimated from input data size: 1\n",
      "In order to change the average load for a reducer (in bytes):\n",
      "  set hive.exec.reducers.bytes.per.reducer=<number>\n",
      "In order to limit the maximum number of reducers:\n",
      "  set hive.exec.reducers.max=<number>\n",
      "In order to set a constant number of reducers:\n",
      "  set mapreduce.job.reduces=<number>\n",
      "Starting Job = job_1579467843452_0008, Tracking URL = http://0986141801dd:8088/proxy/application_1579467843452_0008/\n",
      "Kill Command = /usr/local/hadoop/bin/hadoop job  -kill job_1579467843452_0008\n",
      "Hadoop job information for Stage-1: number of mappers: 1; number of reducers: 1\n",
      "2020-01-19 22:47:49,540 Stage-1 map = 0%,  reduce = 0%\n",
      "2020-01-19 22:47:58,119 Stage-1 map = 100%,  reduce = 0%, Cumulative CPU 3.4 sec\n",
      "2020-01-19 22:48:07,508 Stage-1 map = 100%,  reduce = 100%, Cumulative CPU 8.95 sec\n",
      "MapReduce Total cumulative CPU time: 8 seconds 950 msec\n",
      "Ended Job = job_1579467843452_0008\n",
      "Launching Job 2 out of 2\n",
      "Number of reduce tasks determined at compile time: 1\n",
      "In order to change the average load for a reducer (in bytes):\n",
      "  set hive.exec.reducers.bytes.per.reducer=<number>\n",
      "In order to limit the maximum number of reducers:\n",
      "  set hive.exec.reducers.max=<number>\n",
      "In order to set a constant number of reducers:\n",
      "  set mapreduce.job.reduces=<number>\n",
      "Starting Job = job_1579467843452_0009, Tracking URL = http://0986141801dd:8088/proxy/application_1579467843452_0009/\n",
      "Kill Command = /usr/local/hadoop/bin/hadoop job  -kill job_1579467843452_0009\n",
      "Hadoop job information for Stage-2: number of mappers: 1; number of reducers: 1\n",
      "2020-01-19 22:48:25,726 Stage-2 map = 0%,  reduce = 0%\n",
      "2020-01-19 22:48:33,854 Stage-2 map = 100%,  reduce = 0%, Cumulative CPU 3.16 sec\n",
      "2020-01-19 22:48:43,052 Stage-2 map = 100%,  reduce = 100%, Cumulative CPU 6.49 sec\n",
      "MapReduce Total cumulative CPU time: 6 seconds 490 msec\n",
      "Ended Job = job_1579467843452_0009\n",
      "MapReduce Jobs Launched: \n",
      "Stage-Stage-1: Map: 1  Reduce: 1   Cumulative CPU: 8.95 sec   HDFS Read: 8137 HDFS Write: 204 SUCCESS\n",
      "Stage-Stage-2: Map: 1  Reduce: 1   Cumulative CPU: 6.49 sec   HDFS Read: 4980 HDFS Write: 170 SUCCESS\n",
      "Total MapReduce CPU Time Spent: 15 seconds 440 msec\n",
      "OK\n",
      "A,12\n",
      "B,10\n",
      "C,4\n",
      "D,1\n",
      "E,13\n",
      "Time taken: 69.822 seconds, Fetched: 5 row(s)\n"
     ]
    }
   ],
   "source": [
    "%%hive\n",
    "select concat(letra,',', count(*)) as junto from data\n",
    "group by letra\n",
    "order by junto;"
   ]
  },
  {
   "cell_type": "markdown",
   "metadata": {},
   "source": [
    "%hive_quit"
   ]
  }
 ],
 "metadata": {
  "kernelspec": {
   "display_name": "Python 3",
   "language": "python",
   "name": "python3"
  },
  "language_info": {
   "codemirror_mode": {
    "name": "ipython",
    "version": 3
   },
   "file_extension": ".py",
   "mimetype": "text/x-python",
   "name": "python",
   "nbconvert_exporter": "python",
   "pygments_lexer": "ipython3",
   "version": "3.6.8"
  }
 },
 "nbformat": 4,
 "nbformat_minor": 4
}
