{
  "nbformat": 4,
  "nbformat_minor": 0,
  "metadata": {
    "colab": {
      "name": "Hadoop_q02-10.ipynb",
      "provenance": []
    },
    "kernelspec": {
      "name": "python3",
      "display_name": "Python 3"
    }
  },
  "cells": [
    {
      "cell_type": "code",
      "metadata": {
        "id": "ozYSZAPUhfoZ",
        "colab_type": "code",
        "outputId": "4c5d3ec1-664e-4d54-b5de-476410179b66",
        "colab": {
          "base_uri": "https://localhost:8080/",
          "height": 34
        }
      },
      "source": [
        "%%writefile mapper.py\n",
        "#! /usr/bin/env python\n",
        "\n",
        "import sys\n",
        "if __name__ == \"__main__\":\n",
        "\n",
        "    # input comes from STDIN (standard input)\n",
        "    for line in sys.stdin:\n",
        "        line = line.strip()\n",
        "        line = line.split(',')\n",
        "\n",
        "        if len(line) >=2:\n",
        "            purpose = line[3]\n",
        "            amount = line[4]\n",
        "            \n",
        "\n",
        "            sys.stdout.write(\"{},{}\\n\".format(purpose, amount))\n",
        "        ##    print ('%s\\t%s' % (purpose, amount))"
      ],
      "execution_count": 0,
      "outputs": [
        {
          "output_type": "stream",
          "text": [
            "Overwriting mapper.py\n"
          ],
          "name": "stdout"
        }
      ]
    },
    {
      "cell_type": "code",
      "metadata": {
        "id": "oHKeiX6vhwVm",
        "colab_type": "code",
        "colab": {}
      },
      "source": [
        "!chmod +x mapper.py"
      ],
      "execution_count": 0,
      "outputs": []
    },
    {
      "cell_type": "code",
      "metadata": {
        "id": "Kza_qqg7h0HM",
        "colab_type": "code",
        "outputId": "4ffacdd2-1801-43b5-a419-5b0275e41520",
        "colab": {
          "base_uri": "https://localhost:8080/",
          "height": 187
        }
      },
      "source": [
        "!cat ./credit.csv | ./mapper.py | head"
      ],
      "execution_count": 0,
      "outputs": [
        {
          "output_type": "stream",
          "text": [
            "radio/tv,1169\n",
            "radio/tv,5951\n",
            "education,2096\n",
            "furniture,7882\n",
            "car (new),4870\n",
            "education,9055\n",
            "furniture,2835\n",
            "car (used),6948\n",
            "radio/tv,3059\n",
            "car (new),5234\n"
          ],
          "name": "stdout"
        }
      ]
    },
    {
      "cell_type": "code",
      "metadata": {
        "id": "8egqJ9ODiFKF",
        "colab_type": "code",
        "outputId": "b332f3ff-ee20-493c-9a30-2ba507bbb355",
        "colab": {
          "base_uri": "https://localhost:8080/",
          "height": 34
        }
      },
      "source": [
        "%%writefile reducer.py\n",
        "#!/usr/bin/env python\n",
        "import sys\n",
        "## Esta funcion reduce los elementos que\n",
        "## tienen la misma clave\n",
        "if __name__ == '__main__':\n",
        "\n",
        "    purpose_1={}\n",
        "    total = 0\n",
        "    ## cada linea de texto recibida es una\n",
        "    ## entrada clave \\tabulador valor\n",
        "    for line in sys.stdin:\n",
        "        line = line.strip()\n",
        "        purpose, amount = line.split(',')\n",
        "        amount=int(amount)\n",
        "        if purpose in purpose_1:\n",
        "          purpose_1[purpose].append(amount)\n",
        "        else:\n",
        "          purpose_1[purpose]=[]\n",
        "          purpose_1[purpose].append(amount)\n",
        "    for purpose in purpose_1.keys():\n",
        "       sump=max(purpose_1[purpose])\n",
        "       sys.stdout.write(\"{}\\t{}\\n\".format(purpose, sump))"
      ],
      "execution_count": 0,
      "outputs": [
        {
          "output_type": "stream",
          "text": [
            "Overwriting reducer.py\n"
          ],
          "name": "stdout"
        }
      ]
    },
    {
      "cell_type": "code",
      "metadata": {
        "id": "SSHfodAcl7sH",
        "colab_type": "code",
        "colab": {}
      },
      "source": [
        "!chmod +x reducer.py"
      ],
      "execution_count": 0,
      "outputs": []
    },
    {
      "cell_type": "code",
      "metadata": {
        "id": "nz70_O5nmAi-",
        "colab_type": "code",
        "outputId": "5f879ccf-dffe-4f4e-e993-b3e657394711",
        "colab": {
          "base_uri": "https://localhost:8080/",
          "height": 187
        }
      },
      "source": [
        "!cat ./credit.csv | ./mapper.py | sort | ./reducer.py | head"
      ],
      "execution_count": 0,
      "outputs": [
        {
          "output_type": "stream",
          "text": [
            "business\t15945\n",
            "car (new)\t14896\n",
            "car (used)\t12976\n",
            "domestic appliances\t3990\n",
            "education\t12612\n",
            "furniture\t14179\n",
            "others\t18424\n",
            "radio/tv\t15653\n",
            "repairs\t11998\n",
            "retraining\t3447\n"
          ],
          "name": "stdout"
        }
      ]
    }
  ]
}